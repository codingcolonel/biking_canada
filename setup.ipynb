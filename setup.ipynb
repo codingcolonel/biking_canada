{
 "cells": [
  {
   "cell_type": "code",
   "execution_count": null,
   "id": "59b1b19e-df22-42ac-b3a2-142b679e787b",
   "metadata": {},
   "outputs": [],
   "source": [
    "library(tidyverse)"
   ]
  },
  {
   "cell_type": "code",
   "execution_count": null,
   "id": "ffb70f61-c15a-4f93-bc72-87ab48e70252",
   "metadata": {},
   "outputs": [],
   "source": []
  }
 ],
 "metadata": {
  "kernelspec": {
   "display_name": "R",
   "language": "R",
   "name": "ir"
  },
  "language_info": {
   "name": ""
  }
 },
 "nbformat": 4,
 "nbformat_minor": 5
}
